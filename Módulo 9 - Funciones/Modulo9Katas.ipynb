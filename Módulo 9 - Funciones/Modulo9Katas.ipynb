{
 "cells": [
  {
   "cell_type": "markdown",
   "metadata": {},
   "source": [
    "Ejercicio 1: Trabajar con argumentos en funciones"
   ]
  },
  {
   "cell_type": "code",
   "execution_count": 4,
   "metadata": {},
   "outputs": [
    {
     "name": "stdout",
     "output_type": "stream",
     "text": [
      "Reporte:\n",
      "    Promedio: 54.0%\n",
      "    internalTank: 65%\n",
      "    externalTank: 32%\n",
      "    mixedTank: 65%\n",
      "    \n",
      "Reporte:\n",
      "    Promedio: 54.0%\n",
      "    internalTank: 65%\n",
      "    externalTank: 32%\n",
      "    mixedTank: 65%\n",
      "    \n"
     ]
    }
   ],
   "source": [
    "def leerDatos(internalTank,externalTank,mixedTank):\n",
    "    return f\"\"\"Reporte:\n",
    "    Promedio: {promedio([internalTank,externalTank,mixedTank])}%\n",
    "    internalTank: {internalTank}%\n",
    "    externalTank: {externalTank}%\n",
    "    mixedTank: {mixedTank}%\n",
    "    \"\"\"\n",
    "print(leerDatos(65,32,65))\n",
    "\n",
    "def promedio(values):\n",
    "    total=sum(values)\n",
    "    num_of_items= len(values)\n",
    "    return total / num_of_items\n",
    "\n",
    "promedio([14,64,54])\n",
    "print(leerDatos(65,32,65))"
   ]
  },
  {
   "cell_type": "markdown",
   "metadata": {},
   "source": [
    "Ejercicio 2: Trabajo con argumentos de palabra clave"
   ]
  },
  {
   "cell_type": "code",
   "execution_count": 18,
   "metadata": {},
   "outputs": [
    {
     "name": "stdout",
     "output_type": "stream",
     "text": [
      "\n",
      "    Destino: Moon\n",
      "    Timepo de viaje: 65 minutes\n",
      "    Combustible sobrante: 500000 gallons\n",
      "    \n",
      "\n",
      "    Mission to Moon\n",
      "    Total travel time: 76 minutes\n",
      "    Total fuel left: 500000\n",
      "    \n",
      "\n",
      "    Destino Moon\n",
      "    Tiempo de vuelo: 74 minutos\n",
      "    Combustible Restante: 500000 galones\n",
      "    main tank --> 300000 gallons left\n",
      "external tank --> 200000 gallons left\n",
      "\n"
     ]
    }
   ],
   "source": [
    "def misionReport(pretime,time,destino, externaltank, tank):\n",
    "    return f\"\"\"\n",
    "    Destino: {destino}\n",
    "    Timepo de viaje: {pretime + time} minutes\n",
    "    Combustible sobrante: {externaltank + tank} gallons\n",
    "    \"\"\"\n",
    "print(misionReport(14, 51, \"Moon\", 200000, 300000))\n",
    "\n",
    "\n",
    "def mission_report(destination, *minutes, **fuel_reservoirs):\n",
    "    return f\"\"\"\n",
    "    Mission to {destination}\n",
    "    Total travel time: {sum(minutes)} minutes\n",
    "    Total fuel left: {sum(fuel_reservoirs.values())}\n",
    "    \"\"\"\n",
    "\n",
    "print(mission_report(\"Moon\", 10, 15, 51, main=300000, external=200000))\n",
    "\n",
    "# Reescribimos la funcion:\n",
    "\n",
    "\n",
    "\n",
    "def misionR(destino, *time, **combustible):\n",
    "    principalReport= f\"\"\"\n",
    "    Destino {destino}\n",
    "    Tiempo de vuelo: {sum(time)} minutos\n",
    "    Combustible Restante: {sum(combustible.values())} galones\n",
    "    \"\"\"\n",
    "    for tank_n, gallons in combustible.items():\n",
    "        principalReport += f\"{tank_n} tank --> {gallons} gallons left\\n\"\n",
    "    return principalReport\n",
    "\n",
    "print(misionR(\"Moon\", 8, 11, 55, main=300000, external=200000))\n"
   ]
  }
 ],
 "metadata": {
  "interpreter": {
   "hash": "aca1a6a9aa31c0066e5687911c9169779020671c15ffc8e5030ca131a5fe0222"
  },
  "kernelspec": {
   "display_name": "Python 3.10.2 64-bit (windows store)",
   "language": "python",
   "name": "python3"
  },
  "language_info": {
   "codemirror_mode": {
    "name": "ipython",
    "version": 3
   },
   "file_extension": ".py",
   "mimetype": "text/x-python",
   "name": "python",
   "nbconvert_exporter": "python",
   "pygments_lexer": "ipython3",
   "version": "3.10.2"
  },
  "orig_nbformat": 4
 },
 "nbformat": 4,
 "nbformat_minor": 2
}
